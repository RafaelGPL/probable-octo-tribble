{
 "cells": [
  {
   "cell_type": "code",
   "execution_count": 1,
   "id": "08c9266b",
   "metadata": {},
   "outputs": [
    {
     "name": "stdout",
     "output_type": "stream",
     "text": [
      "H\n",
      "e\n",
      "l\n",
      "l\n",
      "o\n",
      ",\n",
      " \n",
      "w\n",
      "o\n",
      "r\n",
      "l\n",
      "d\n",
      "!\n"
     ]
    }
   ],
   "source": [
    "for letter in \"Hello, world!\":\n",
    "    print(letter)"
   ]
  },
  {
   "cell_type": "markdown",
   "id": "c46ce1b0",
   "metadata": {},
   "source": [
    "# Problem 1\n",
    "\n",
    "### Given two strings (string_a and string_b) check whether these are anagrams of each other considering the following criteria:\n",
    "\n",
    "1. Both strings must be of equal length.\n",
    "2. They must use the exact same characters.\n",
    "\n",
    "```\n",
    "Examples:\n",
    "cars and scar\n",
    "earth and heart\n",
    "```\n",
    "\n",
    "#### Create a function called \"are_anagrams\" that takes two strings and returns True if they are anagrams, False otherwise."
   ]
  },
  {
   "cell_type": "code",
   "execution_count": 2,
   "id": "12043c98",
   "metadata": {},
   "outputs": [],
   "source": [
    "# Bad solution\n",
    "# This is a bad solution because it doesn't represent that we know how to solve the problem\n",
    "# def are_anagrams(string_a, string_b):\n",
    "#     return sorted(string_a) == sorted(string_b)"
   ]
  },
  {
   "cell_type": "code",
   "execution_count": 3,
   "id": "55a5c59e",
   "metadata": {},
   "outputs": [],
   "source": [
    "def are_anagrams(string_a, string_b):\n",
    "    if len(string_a) != len(string_b):\n",
    "        return False\n",
    "    string_a = string_a.replace(\" \", \"\")\n",
    "    string_b = string_b.replace(\" \", \"\")\n",
    "    string_a = string_a.lower()\n",
    "    string_b = string_b.lower()\n",
    "    dict_a = dict()\n",
    "    dict_b = dict()\n",
    "    for index in range(len(string_a)):\n",
    "        if string_a[index] in dict_a.keys():\n",
    "            dict_a[string_a[index]] += 1\n",
    "        else:\n",
    "            dict_a[string_a[index]] = 1\n",
    "        if string_b[index] in dict_b.keys():\n",
    "            dict_b[string_b[index]] += 1\n",
    "        else:\n",
    "            dict_b[string_b[index]] = 1\n",
    "    return dict_a == dict_b\n"
   ]
  },
  {
   "cell_type": "code",
   "execution_count": 4,
   "id": "b0a48cc2",
   "metadata": {},
   "outputs": [
    {
     "data": {
      "text/plain": [
       "True"
      ]
     },
     "execution_count": 4,
     "metadata": {},
     "output_type": "execute_result"
    }
   ],
   "source": [
    "are_anagrams(\"heart\", \"earth\")"
   ]
  },
  {
   "cell_type": "code",
   "execution_count": 5,
   "id": "e392d36e",
   "metadata": {},
   "outputs": [
    {
     "data": {
      "text/plain": [
       "False"
      ]
     },
     "execution_count": 5,
     "metadata": {},
     "output_type": "execute_result"
    }
   ],
   "source": [
    "are_anagrams(\"heart\", \"eartt\")"
   ]
  },
  {
   "cell_type": "code",
   "execution_count": 6,
   "id": "0c52928e",
   "metadata": {},
   "outputs": [],
   "source": [
    "# In the popular Harry Potter series\n",
    "# The villain is \"Lord Voldemort\"\n",
    "# He chose this name because it is an anagram of his \"human\" name which is \"Tom Marvolo Riddle\".\n",
    "# More specifically, that is an anagram of \"I am Lord Voldemort\"\n",
    "\n",
    "# Considering this, how would you update your solution to return True for these parameters?"
   ]
  },
  {
   "cell_type": "code",
   "execution_count": 7,
   "id": "553dd38c",
   "metadata": {},
   "outputs": [
    {
     "data": {
      "text/plain": [
       "False"
      ]
     },
     "execution_count": 7,
     "metadata": {},
     "output_type": "execute_result"
    }
   ],
   "source": [
    "are_anagrams(\"I am Lord Voldemort\", \"Tom Marvolo Riddle\")"
   ]
  },
  {
   "cell_type": "code",
   "execution_count": 3,
   "id": "dae22117",
   "metadata": {},
   "outputs": [
    {
     "data": {
      "text/plain": [
       "'a'"
      ]
     },
     "execution_count": 3,
     "metadata": {},
     "output_type": "execute_result"
    }
   ],
   "source": []
  },
  {
   "cell_type": "code",
   "execution_count": null,
   "id": "a3246345",
   "metadata": {},
   "outputs": [],
   "source": []
  }
 ],
 "metadata": {
  "kernelspec": {
   "display_name": "Python 3 (ipykernel)",
   "language": "python",
   "name": "python3"
  },
  "language_info": {
   "codemirror_mode": {
    "name": "ipython",
    "version": 3
   },
   "file_extension": ".py",
   "mimetype": "text/x-python",
   "name": "python",
   "nbconvert_exporter": "python",
   "pygments_lexer": "ipython3",
   "version": "3.10.8"
  }
 },
 "nbformat": 4,
 "nbformat_minor": 5
}
